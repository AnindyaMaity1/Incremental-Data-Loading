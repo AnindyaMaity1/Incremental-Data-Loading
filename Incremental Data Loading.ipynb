{
 "cells": [
  {
   "cell_type": "markdown",
   "metadata": {
    "application/vnd.databricks.v1+cell": {
     "cellMetadata": {},
     "inputWidgets": {},
     "nuid": "984a33ce-0055-4aaf-ba48-5ab26046f0f6",
     "showTitle": false,
     "tableResultSettingsMap": {},
     "title": ""
    }
   },
   "source": [
    "# Incremental Data Loading"
   ]
  },
  {
   "cell_type": "code",
   "execution_count": 0,
   "metadata": {
    "application/vnd.databricks.v1+cell": {
     "cellMetadata": {
      "byteLimit": 2048000,
      "rowLimit": 10000
     },
     "inputWidgets": {},
     "nuid": "c99d5f1a-b4a6-4c7c-a9f5-630c743bf9ae",
     "showTitle": false,
     "tableResultSettingsMap": {},
     "title": ""
    }
   },
   "outputs": [],
   "source": [
    "CREATE DATABASE Sales"
   ]
  },
  {
   "cell_type": "code",
   "execution_count": 0,
   "metadata": {
    "application/vnd.databricks.v1+cell": {
     "cellMetadata": {
      "byteLimit": 2048000,
      "rowLimit": 10000
     },
     "inputWidgets": {},
     "nuid": "9a952e81-7e20-4d47-a920-48506dcd045d",
     "showTitle": false,
     "tableResultSettingsMap": {},
     "title": ""
    }
   },
   "outputs": [],
   "source": [
    "CREATE TABLE Sales (\n",
    "  id INT,\n",
    "  order_date DATE,\n",
    "  customer_id INT,\n",
    "  customer_name VARCHAR(50),\n",
    "  email VARCHAR(100),\n",
    "  product_id INT,\n",
    "  product_name VARCHAR(50),\n",
    "  category VARCHAR(50),\n",
    "  region_id INT,\n",
    "  region_name VARCHAR(50),\n",
    "  region_group VARCHAR(50),\n",
    "  country VARCHAR(50),\n",
    "  quantity INT,\n",
    "  unit_price DECIMAL(10,2),\n",
    "  total_price DECIMAL(10,2)\n",
    ");\n"
   ]
  },
  {
   "cell_type": "code",
   "execution_count": 0,
   "metadata": {
    "application/vnd.databricks.v1+cell": {
     "cellMetadata": {
      "byteLimit": 2048000,
      "rowLimit": 10000
     },
     "inputWidgets": {},
     "nuid": "e44685f6-2c8a-42e4-a843-efb7b9cdf404",
     "showTitle": false,
     "tableResultSettingsMap": {},
     "title": ""
    }
   },
   "outputs": [
    {
     "output_type": "display_data",
     "data": {
      "text/html": [
       "<style scoped>\n",
       "  .table-result-container {\n",
       "    max-height: 300px;\n",
       "    overflow: auto;\n",
       "  }\n",
       "  table, th, td {\n",
       "    border: 1px solid black;\n",
       "    border-collapse: collapse;\n",
       "  }\n",
       "  th, td {\n",
       "    padding: 5px;\n",
       "  }\n",
       "  th {\n",
       "    text-align: left;\n",
       "  }\n",
       "</style><div class='table-result-container'><table class='table-result'><thead style='background-color: white'><tr><th>num_affected_rows</th><th>num_inserted_rows</th></tr></thead><tbody><tr><td>20</td><td>20</td></tr></tbody></table></div>"
      ]
     },
     "metadata": {
      "application/vnd.databricks.v1+output": {
       "addedWidgets": {},
       "aggData": [],
       "aggError": "",
       "aggOverflow": false,
       "aggSchema": [],
       "aggSeriesLimitReached": false,
       "aggType": "",
       "arguments": {},
       "columnCustomDisplayInfos": {},
       "data": [
        [
         20,
         20
        ]
       ],
       "datasetInfos": [
        {
         "name": "_sqldf",
         "schema": {
          "fields": [
           {
            "metadata": {},
            "name": "num_affected_rows",
            "nullable": true,
            "type": "long"
           },
           {
            "metadata": {},
            "name": "num_inserted_rows",
            "nullable": true,
            "type": "long"
           }
          ],
          "type": "struct"
         },
         "tableIdentifier": null,
         "typeStr": "pyspark.sql.connect.dataframe.DataFrame"
        }
       ],
       "dbfsResultPath": null,
       "isJsonSchema": true,
       "metadata": {
        "createTempViewForImplicitDf": true,
        "dataframeName": "_sqldf",
        "executionCount": 5
       },
       "overflow": false,
       "plotOptions": {
        "customPlotOptions": {},
        "displayType": "table",
        "pivotAggregation": null,
        "pivotColumns": null,
        "xColumns": null,
        "yColumns": null
       },
       "removedWidgets": [],
       "schema": [
        {
         "metadata": "{}",
         "name": "num_affected_rows",
         "type": "\"long\""
        },
        {
         "metadata": "{}",
         "name": "num_inserted_rows",
         "type": "\"long\""
        }
       ],
       "type": "table"
      }
     },
     "output_type": "display_data"
    }
   ],
   "source": [
    "INSERT INTO Sales VALUES\n",
    "(1, '2024-02-01', 101, 'Alice Johnson', 'alice@example.com', 201, 'Headphones', 'Accessories', 301, 'North America', 'USA', 'Canada', 2, 150.00, 300.00),\n",
    "(2, '2024-02-02', 102, 'Bob Smith', 'bob@example.com', 202, 'Smartwatch', 'Electronics', 302, 'Asia', 'India', 'China', 1, 400.00, 400.00),\n",
    "(3, '2024-02-03', 103, 'Charlie Brown', 'charlie@example.com', 203, 'Tablet', 'Electronics', 303, 'Asia', 'India', 'Japan', 3, 300.00, 900.00),\n",
    "(4, '2024-02-04', 104, 'David Lee', 'david@example.com', 204, 'Gaming Console', 'Electronics', 304, 'Europe', 'France', 'Germany', 1, 500.00, 500.00),\n",
    "(5, '2024-02-05', 105, 'Eve Adams', 'eve@example.com', 205, 'Laptop', 'Electronics', 305, 'North America', 'USA', 'Canada', 1, 800.00, 800.00),\n",
    "(6, '2024-02-06', 106, 'Frank Miller', 'frank@example.com', 206, 'Monitor', 'Accessories', 306, 'Europe', 'Italy', 'Spain', 2, 250.00, 500.00),\n",
    "(7, '2024-02-07', 107, 'Grace White', 'grace@example.com', 207, 'Keyboard', 'Accessories', 307, 'Asia', 'Japan', 'India', 3, 100.00, 300.00),\n",
    "(8, '2024-02-08', 108, 'Hannah Green', 'hannah@example.com', 208, 'Mouse', 'Accessories', 308, 'Europe', 'Germany', 'France', 4, 50.00, 200.00),\n",
    "(9, '2024-02-09', 109, 'Ian Scott', 'ian@example.com', 209, 'Printer', 'Electronics', 309, 'North America', 'USA', 'Mexico', 1, 600.00, 600.00),\n",
    "(10, '2024-02-10', 110, 'Jane Cooper', 'jane@example.com', 210, 'Camera', 'Electronics', 310, 'Asia', 'China', 'Japan', 2, 450.00, 900.00),\n",
    "(11, '2024-02-11', 111, 'Kyle Young', 'kyle@example.com', 211, 'Router', 'Electronics', 311, 'Europe', 'Spain', 'Italy', 1, 120.00, 120.00),\n",
    "(12, '2024-02-12', 112, 'Laura King', 'laura@example.com', 212, 'Microphone', 'Accessories', 312, 'Asia', 'India', 'China', 2, 200.00, 400.00),\n",
    "(13, '2024-02-13', 113, 'Mark Hill', 'mark@example.com', 213, 'Speaker', 'Electronics', 313, 'Europe', 'Germany', 'France', 3, 180.00, 540.00),\n",
    "(14, '2024-02-14', 114, 'Nina Ross', 'nina@example.com', 214, 'Projector', 'Electronics', 314, 'North America', 'USA', 'Canada', 1, 700.00, 700.00),\n",
    "(15, '2024-02-15', 115, 'Oscar Reed', 'oscar@example.com', 215, 'SSD', 'Accessories', 315, 'Asia', 'Japan', 'China', 2, 300.00, 600.00),\n",
    "(16, '2024-02-16', 116, 'Paula Gray', 'paula@example.com', 216, 'Power Bank', 'Accessories', 316, 'Europe', 'Italy', 'Spain', 3, 90.00, 270.00),\n",
    "(17, '2024-02-17', 117, 'Quinn Bell', 'quinn@example.com', 217, 'Webcam', 'Electronics', 317, 'North America', 'Mexico', 'USA', 2, 130.00, 260.00),\n",
    "(18, '2024-02-18', 118, 'Rachel Fox', 'rachel@example.com', 218, 'Micro SD Card', 'Accessories', 318, 'Asia', 'India', 'Japan', 5, 40.00, 200.00),\n",
    "(19, '2024-02-19', 119, 'Sam Ward', 'sam@example.com', 219, 'VR Headset', 'Electronics', 319, 'Europe', 'France', 'Germany', 1, 900.00, 900.00),\n",
    "(20, '2024-02-20', 120, 'Tina Cole', 'tina@example.com', 220, 'Smart TV', 'Electronics', 320, 'Asia', 'China', 'India', 1, 1200.00, 1200.00);\n"
   ]
  },
  {
   "cell_type": "code",
   "execution_count": 0,
   "metadata": {
    "application/vnd.databricks.v1+cell": {
     "cellMetadata": {
      "byteLimit": 2048000,
      "rowLimit": 10000
     },
     "inputWidgets": {},
     "nuid": "ee510849-8066-4b38-84f2-6d9c2c60fb99",
     "showTitle": false,
     "tableResultSettingsMap": {},
     "title": ""
    }
   },
   "outputs": [
    {
     "output_type": "display_data",
     "data": {
      "text/html": [
       "<style scoped>\n",
       "  .table-result-container {\n",
       "    max-height: 300px;\n",
       "    overflow: auto;\n",
       "  }\n",
       "  table, th, td {\n",
       "    border: 1px solid black;\n",
       "    border-collapse: collapse;\n",
       "  }\n",
       "  th, td {\n",
       "    padding: 5px;\n",
       "  }\n",
       "  th {\n",
       "    text-align: left;\n",
       "  }\n",
       "</style><div class='table-result-container'><table class='table-result'><thead style='background-color: white'><tr><th>num_affected_rows</th><th>num_inserted_rows</th></tr></thead><tbody><tr><td>5</td><td>5</td></tr></tbody></table></div>"
      ]
     },
     "metadata": {
      "application/vnd.databricks.v1+output": {
       "addedWidgets": {},
       "aggData": [],
       "aggError": "",
       "aggOverflow": false,
       "aggSchema": [],
       "aggSeriesLimitReached": false,
       "aggType": "",
       "arguments": {},
       "columnCustomDisplayInfos": {},
       "data": [
        [
         5,
         5
        ]
       ],
       "datasetInfos": [
        {
         "name": "_sqldf",
         "schema": {
          "fields": [
           {
            "metadata": {},
            "name": "num_affected_rows",
            "nullable": true,
            "type": "long"
           },
           {
            "metadata": {},
            "name": "num_inserted_rows",
            "nullable": true,
            "type": "long"
           }
          ],
          "type": "struct"
         },
         "tableIdentifier": null,
         "typeStr": "pyspark.sql.connect.dataframe.DataFrame"
        }
       ],
       "dbfsResultPath": null,
       "isJsonSchema": true,
       "metadata": {
        "createTempViewForImplicitDf": true,
        "dataframeName": "_sqldf",
        "executionCount": 69
       },
       "overflow": false,
       "plotOptions": {
        "customPlotOptions": {},
        "displayType": "table",
        "pivotAggregation": null,
        "pivotColumns": null,
        "xColumns": null,
        "yColumns": null
       },
       "removedWidgets": [],
       "schema": [
        {
         "metadata": "{}",
         "name": "num_affected_rows",
         "type": "\"long\""
        },
        {
         "metadata": "{}",
         "name": "num_inserted_rows",
         "type": "\"long\""
        }
       ],
       "type": "table"
      }
     },
     "output_type": "display_data"
    }
   ],
   "source": [
    "INSERT INTO Sales VALUES\n",
    "(21, '2024-02-21', 121, 'Uma Patel', 'uma@example.com', 221, 'Drone', 'Electronics', 321, 'Asia', 'India', 'Singapore', 1, 950.00, 950.00),\n",
    "(22, '2024-02-22', 122, 'Victor Shaw', 'victor@example.com', 222, 'Bluetooth Speaker', 'Accessories', 322, 'Europe', 'Germany', 'Italy', 3, 180.00, 540.00),\n",
    "(23, '2024-02-23', 123, 'Wendy Brooks', 'wendy@example.com', 223, 'Fitness Tracker', 'Electronics', 323, 'North America', 'USA', 'Canada', 2, 220.00, 440.00),\n",
    "(24, '2024-02-24', 124, 'Xavier Hunt', 'xavier@example.com', 224, 'External Hard Drive', 'Accessories', 324, 'Europe', 'France', 'Spain', 1, 350.00, 350.00),\n",
    "(25, '2024-02-25', 125, 'Yvonne Long', 'yvonne@example.com', 225, 'Graphic Tablet', 'Electronics', 325, 'Asia', 'Japan', 'China', 1, 480.00, 480.00);\n"
   ]
  },
  {
   "cell_type": "code",
   "execution_count": 0,
   "metadata": {
    "application/vnd.databricks.v1+cell": {
     "cellMetadata": {
      "byteLimit": 2048000,
      "rowLimit": 10000
     },
     "inputWidgets": {},
     "nuid": "2b027cf6-62d4-4d9d-83af-53b7de77ebea",
     "showTitle": false,
     "tableResultSettingsMap": {},
     "title": ""
    }
   },
   "outputs": [
    {
     "output_type": "display_data",
     "data": {
      "text/html": [
       "<style scoped>\n",
       "  .table-result-container {\n",
       "    max-height: 300px;\n",
       "    overflow: auto;\n",
       "  }\n",
       "  table, th, td {\n",
       "    border: 1px solid black;\n",
       "    border-collapse: collapse;\n",
       "  }\n",
       "  th, td {\n",
       "    padding: 5px;\n",
       "  }\n",
       "  th {\n",
       "    text-align: left;\n",
       "  }\n",
       "</style><div class='table-result-container'><table class='table-result'><thead style='background-color: white'><tr><th>id</th><th>order_date</th><th>customer_id</th><th>customer_name</th><th>email</th><th>product_id</th><th>product_name</th><th>category</th><th>region_id</th><th>region_name</th><th>region_group</th><th>country</th><th>quantity</th><th>unit_price</th><th>total_price</th></tr></thead><tbody><tr><td>1</td><td>2024-02-01</td><td>101</td><td>Alice Johnson</td><td>alice@example.com</td><td>201</td><td>Headphones</td><td>Accessories</td><td>301</td><td>North America</td><td>USA</td><td>Canada</td><td>2</td><td>150.00</td><td>300.00</td></tr><tr><td>2</td><td>2024-02-02</td><td>102</td><td>Bob Smith</td><td>bob@example.com</td><td>202</td><td>Smartwatch</td><td>Electronics</td><td>302</td><td>Asia</td><td>India</td><td>China</td><td>1</td><td>400.00</td><td>400.00</td></tr><tr><td>3</td><td>2024-02-03</td><td>103</td><td>Charlie Brown</td><td>charlie@example.com</td><td>203</td><td>Tablet</td><td>Electronics</td><td>303</td><td>Asia</td><td>India</td><td>Japan</td><td>3</td><td>300.00</td><td>900.00</td></tr><tr><td>4</td><td>2024-02-04</td><td>104</td><td>David Lee</td><td>david@example.com</td><td>204</td><td>Gaming Console</td><td>Electronics</td><td>304</td><td>Europe</td><td>France</td><td>Germany</td><td>1</td><td>500.00</td><td>500.00</td></tr><tr><td>5</td><td>2024-02-05</td><td>105</td><td>Eve Adams</td><td>eve@example.com</td><td>205</td><td>Laptop</td><td>Electronics</td><td>305</td><td>North America</td><td>USA</td><td>Canada</td><td>1</td><td>800.00</td><td>800.00</td></tr><tr><td>6</td><td>2024-02-06</td><td>106</td><td>Frank Miller</td><td>frank@example.com</td><td>206</td><td>Monitor</td><td>Accessories</td><td>306</td><td>Europe</td><td>Italy</td><td>Spain</td><td>2</td><td>250.00</td><td>500.00</td></tr><tr><td>7</td><td>2024-02-07</td><td>107</td><td>Grace White</td><td>grace@example.com</td><td>207</td><td>Keyboard</td><td>Accessories</td><td>307</td><td>Asia</td><td>Japan</td><td>India</td><td>3</td><td>100.00</td><td>300.00</td></tr><tr><td>8</td><td>2024-02-08</td><td>108</td><td>Hannah Green</td><td>hannah@example.com</td><td>208</td><td>Mouse</td><td>Accessories</td><td>308</td><td>Europe</td><td>Germany</td><td>France</td><td>4</td><td>50.00</td><td>200.00</td></tr><tr><td>9</td><td>2024-02-09</td><td>109</td><td>Ian Scott</td><td>ian@example.com</td><td>209</td><td>Printer</td><td>Electronics</td><td>309</td><td>North America</td><td>USA</td><td>Mexico</td><td>1</td><td>600.00</td><td>600.00</td></tr><tr><td>10</td><td>2024-02-10</td><td>110</td><td>Jane Cooper</td><td>jane@example.com</td><td>210</td><td>Camera</td><td>Electronics</td><td>310</td><td>Asia</td><td>China</td><td>Japan</td><td>2</td><td>450.00</td><td>900.00</td></tr><tr><td>11</td><td>2024-02-11</td><td>111</td><td>Kyle Young</td><td>kyle@example.com</td><td>211</td><td>Router</td><td>Electronics</td><td>311</td><td>Europe</td><td>Spain</td><td>Italy</td><td>1</td><td>120.00</td><td>120.00</td></tr><tr><td>12</td><td>2024-02-12</td><td>112</td><td>Laura King</td><td>laura@example.com</td><td>212</td><td>Microphone</td><td>Accessories</td><td>312</td><td>Asia</td><td>India</td><td>China</td><td>2</td><td>200.00</td><td>400.00</td></tr><tr><td>13</td><td>2024-02-13</td><td>113</td><td>Mark Hill</td><td>mark@example.com</td><td>213</td><td>Speaker</td><td>Electronics</td><td>313</td><td>Europe</td><td>Germany</td><td>France</td><td>3</td><td>180.00</td><td>540.00</td></tr><tr><td>14</td><td>2024-02-14</td><td>114</td><td>Nina Ross</td><td>nina@example.com</td><td>214</td><td>Projector</td><td>Electronics</td><td>314</td><td>North America</td><td>USA</td><td>Canada</td><td>1</td><td>700.00</td><td>700.00</td></tr><tr><td>15</td><td>2024-02-15</td><td>115</td><td>Oscar Reed</td><td>oscar@example.com</td><td>215</td><td>SSD</td><td>Accessories</td><td>315</td><td>Asia</td><td>Japan</td><td>China</td><td>2</td><td>300.00</td><td>600.00</td></tr><tr><td>16</td><td>2024-02-16</td><td>116</td><td>Paula Gray</td><td>paula@example.com</td><td>216</td><td>Power Bank</td><td>Accessories</td><td>316</td><td>Europe</td><td>Italy</td><td>Spain</td><td>3</td><td>90.00</td><td>270.00</td></tr><tr><td>17</td><td>2024-02-17</td><td>117</td><td>Quinn Bell</td><td>quinn@example.com</td><td>217</td><td>Webcam</td><td>Electronics</td><td>317</td><td>North America</td><td>Mexico</td><td>USA</td><td>2</td><td>130.00</td><td>260.00</td></tr><tr><td>18</td><td>2024-02-18</td><td>118</td><td>Rachel Fox</td><td>rachel@example.com</td><td>218</td><td>Micro SD Card</td><td>Accessories</td><td>318</td><td>Asia</td><td>India</td><td>Japan</td><td>5</td><td>40.00</td><td>200.00</td></tr><tr><td>19</td><td>2024-02-19</td><td>119</td><td>Sam Ward</td><td>sam@example.com</td><td>219</td><td>VR Headset</td><td>Electronics</td><td>319</td><td>Europe</td><td>France</td><td>Germany</td><td>1</td><td>900.00</td><td>900.00</td></tr><tr><td>20</td><td>2024-02-20</td><td>120</td><td>Tina Cole</td><td>tina@example.com</td><td>220</td><td>Smart TV</td><td>Electronics</td><td>320</td><td>Asia</td><td>China</td><td>India</td><td>1</td><td>1200.00</td><td>1200.00</td></tr><tr><td>21</td><td>2024-02-21</td><td>121</td><td>Uma Patel</td><td>uma@example.com</td><td>221</td><td>Drone</td><td>Electronics</td><td>321</td><td>Asia</td><td>India</td><td>Singapore</td><td>1</td><td>950.00</td><td>950.00</td></tr><tr><td>22</td><td>2024-02-22</td><td>122</td><td>Victor Shaw</td><td>victor@example.com</td><td>222</td><td>Bluetooth Speaker</td><td>Accessories</td><td>322</td><td>Europe</td><td>Germany</td><td>Italy</td><td>3</td><td>180.00</td><td>540.00</td></tr><tr><td>23</td><td>2024-02-23</td><td>123</td><td>Wendy Brooks</td><td>wendy@example.com</td><td>223</td><td>Fitness Tracker</td><td>Electronics</td><td>323</td><td>North America</td><td>USA</td><td>Canada</td><td>2</td><td>220.00</td><td>440.00</td></tr><tr><td>24</td><td>2024-02-24</td><td>124</td><td>Xavier Hunt</td><td>xavier@example.com</td><td>224</td><td>External Hard Drive</td><td>Accessories</td><td>324</td><td>Europe</td><td>France</td><td>Spain</td><td>1</td><td>350.00</td><td>350.00</td></tr><tr><td>25</td><td>2024-02-25</td><td>125</td><td>Yvonne Long</td><td>yvonne@example.com</td><td>225</td><td>Graphic Tablet</td><td>Electronics</td><td>325</td><td>Asia</td><td>Japan</td><td>China</td><td>1</td><td>480.00</td><td>480.00</td></tr></tbody></table></div>"
      ]
     },
     "metadata": {
      "application/vnd.databricks.v1+output": {
       "addedWidgets": {},
       "aggData": [],
       "aggError": "",
       "aggOverflow": false,
       "aggSchema": [],
       "aggSeriesLimitReached": false,
       "aggType": "",
       "arguments": {},
       "columnCustomDisplayInfos": {},
       "data": [
        [
         1,
         "2024-02-01",
         101,
         "Alice Johnson",
         "alice@example.com",
         201,
         "Headphones",
         "Accessories",
         301,
         "North America",
         "USA",
         "Canada",
         2,
         "150.00",
         "300.00"
        ],
        [
         2,
         "2024-02-02",
         102,
         "Bob Smith",
         "bob@example.com",
         202,
         "Smartwatch",
         "Electronics",
         302,
         "Asia",
         "India",
         "China",
         1,
         "400.00",
         "400.00"
        ],
        [
         3,
         "2024-02-03",
         103,
         "Charlie Brown",
         "charlie@example.com",
         203,
         "Tablet",
         "Electronics",
         303,
         "Asia",
         "India",
         "Japan",
         3,
         "300.00",
         "900.00"
        ],
        [
         4,
         "2024-02-04",
         104,
         "David Lee",
         "david@example.com",
         204,
         "Gaming Console",
         "Electronics",
         304,
         "Europe",
         "France",
         "Germany",
         1,
         "500.00",
         "500.00"
        ],
        [
         5,
         "2024-02-05",
         105,
         "Eve Adams",
         "eve@example.com",
         205,
         "Laptop",
         "Electronics",
         305,
         "North America",
         "USA",
         "Canada",
         1,
         "800.00",
         "800.00"
        ],
        [
         6,
         "2024-02-06",
         106,
         "Frank Miller",
         "frank@example.com",
         206,
         "Monitor",
         "Accessories",
         306,
         "Europe",
         "Italy",
         "Spain",
         2,
         "250.00",
         "500.00"
        ],
        [
         7,
         "2024-02-07",
         107,
         "Grace White",
         "grace@example.com",
         207,
         "Keyboard",
         "Accessories",
         307,
         "Asia",
         "Japan",
         "India",
         3,
         "100.00",
         "300.00"
        ],
        [
         8,
         "2024-02-08",
         108,
         "Hannah Green",
         "hannah@example.com",
         208,
         "Mouse",
         "Accessories",
         308,
         "Europe",
         "Germany",
         "France",
         4,
         "50.00",
         "200.00"
        ],
        [
         9,
         "2024-02-09",
         109,
         "Ian Scott",
         "ian@example.com",
         209,
         "Printer",
         "Electronics",
         309,
         "North America",
         "USA",
         "Mexico",
         1,
         "600.00",
         "600.00"
        ],
        [
         10,
         "2024-02-10",
         110,
         "Jane Cooper",
         "jane@example.com",
         210,
         "Camera",
         "Electronics",
         310,
         "Asia",
         "China",
         "Japan",
         2,
         "450.00",
         "900.00"
        ],
        [
         11,
         "2024-02-11",
         111,
         "Kyle Young",
         "kyle@example.com",
         211,
         "Router",
         "Electronics",
         311,
         "Europe",
         "Spain",
         "Italy",
         1,
         "120.00",
         "120.00"
        ],
        [
         12,
         "2024-02-12",
         112,
         "Laura King",
         "laura@example.com",
         212,
         "Microphone",
         "Accessories",
         312,
         "Asia",
         "India",
         "China",
         2,
         "200.00",
         "400.00"
        ],
        [
         13,
         "2024-02-13",
         113,
         "Mark Hill",
         "mark@example.com",
         213,
         "Speaker",
         "Electronics",
         313,
         "Europe",
         "Germany",
         "France",
         3,
         "180.00",
         "540.00"
        ],
        [
         14,
         "2024-02-14",
         114,
         "Nina Ross",
         "nina@example.com",
         214,
         "Projector",
         "Electronics",
         314,
         "North America",
         "USA",
         "Canada",
         1,
         "700.00",
         "700.00"
        ],
        [
         15,
         "2024-02-15",
         115,
         "Oscar Reed",
         "oscar@example.com",
         215,
         "SSD",
         "Accessories",
         315,
         "Asia",
         "Japan",
         "China",
         2,
         "300.00",
         "600.00"
        ],
        [
         16,
         "2024-02-16",
         116,
         "Paula Gray",
         "paula@example.com",
         216,
         "Power Bank",
         "Accessories",
         316,
         "Europe",
         "Italy",
         "Spain",
         3,
         "90.00",
         "270.00"
        ],
        [
         17,
         "2024-02-17",
         117,
         "Quinn Bell",
         "quinn@example.com",
         217,
         "Webcam",
         "Electronics",
         317,
         "North America",
         "Mexico",
         "USA",
         2,
         "130.00",
         "260.00"
        ],
        [
         18,
         "2024-02-18",
         118,
         "Rachel Fox",
         "rachel@example.com",
         218,
         "Micro SD Card",
         "Accessories",
         318,
         "Asia",
         "India",
         "Japan",
         5,
         "40.00",
         "200.00"
        ],
        [
         19,
         "2024-02-19",
         119,
         "Sam Ward",
         "sam@example.com",
         219,
         "VR Headset",
         "Electronics",
         319,
         "Europe",
         "France",
         "Germany",
         1,
         "900.00",
         "900.00"
        ],
        [
         20,
         "2024-02-20",
         120,
         "Tina Cole",
         "tina@example.com",
         220,
         "Smart TV",
         "Electronics",
         320,
         "Asia",
         "China",
         "India",
         1,
         "1200.00",
         "1200.00"
        ],
        [
         21,
         "2024-02-21",
         121,
         "Uma Patel",
         "uma@example.com",
         221,
         "Drone",
         "Electronics",
         321,
         "Asia",
         "India",
         "Singapore",
         1,
         "950.00",
         "950.00"
        ],
        [
         22,
         "2024-02-22",
         122,
         "Victor Shaw",
         "victor@example.com",
         222,
         "Bluetooth Speaker",
         "Accessories",
         322,
         "Europe",
         "Germany",
         "Italy",
         3,
         "180.00",
         "540.00"
        ],
        [
         23,
         "2024-02-23",
         123,
         "Wendy Brooks",
         "wendy@example.com",
         223,
         "Fitness Tracker",
         "Electronics",
         323,
         "North America",
         "USA",
         "Canada",
         2,
         "220.00",
         "440.00"
        ],
        [
         24,
         "2024-02-24",
         124,
         "Xavier Hunt",
         "xavier@example.com",
         224,
         "External Hard Drive",
         "Accessories",
         324,
         "Europe",
         "France",
         "Spain",
         1,
         "350.00",
         "350.00"
        ],
        [
         25,
         "2024-02-25",
         125,
         "Yvonne Long",
         "yvonne@example.com",
         225,
         "Graphic Tablet",
         "Electronics",
         325,
         "Asia",
         "Japan",
         "China",
         1,
         "480.00",
         "480.00"
        ]
       ],
       "datasetInfos": [
        {
         "name": "_sqldf",
         "schema": {
          "fields": [
           {
            "metadata": {},
            "name": "id",
            "nullable": true,
            "type": "integer"
           },
           {
            "metadata": {},
            "name": "order_date",
            "nullable": true,
            "type": "date"
           },
           {
            "metadata": {},
            "name": "customer_id",
            "nullable": true,
            "type": "integer"
           },
           {
            "metadata": {
             "__CHAR_VARCHAR_TYPE_STRING": "varchar(50)"
            },
            "name": "customer_name",
            "nullable": true,
            "type": "string"
           },
           {
            "metadata": {
             "__CHAR_VARCHAR_TYPE_STRING": "varchar(100)"
            },
            "name": "email",
            "nullable": true,
            "type": "string"
           },
           {
            "metadata": {},
            "name": "product_id",
            "nullable": true,
            "type": "integer"
           },
           {
            "metadata": {
             "__CHAR_VARCHAR_TYPE_STRING": "varchar(50)"
            },
            "name": "product_name",
            "nullable": true,
            "type": "string"
           },
           {
            "metadata": {
             "__CHAR_VARCHAR_TYPE_STRING": "varchar(50)"
            },
            "name": "category",
            "nullable": true,
            "type": "string"
           },
           {
            "metadata": {},
            "name": "region_id",
            "nullable": true,
            "type": "integer"
           },
           {
            "metadata": {
             "__CHAR_VARCHAR_TYPE_STRING": "varchar(50)"
            },
            "name": "region_name",
            "nullable": true,
            "type": "string"
           },
           {
            "metadata": {
             "__CHAR_VARCHAR_TYPE_STRING": "varchar(50)"
            },
            "name": "region_group",
            "nullable": true,
            "type": "string"
           },
           {
            "metadata": {
             "__CHAR_VARCHAR_TYPE_STRING": "varchar(50)"
            },
            "name": "country",
            "nullable": true,
            "type": "string"
           },
           {
            "metadata": {},
            "name": "quantity",
            "nullable": true,
            "type": "integer"
           },
           {
            "metadata": {},
            "name": "unit_price",
            "nullable": true,
            "type": "decimal(10,2)"
           },
           {
            "metadata": {},
            "name": "total_price",
            "nullable": true,
            "type": "decimal(10,2)"
           }
          ],
          "type": "struct"
         },
         "tableIdentifier": null,
         "typeStr": "pyspark.sql.connect.dataframe.DataFrame"
        }
       ],
       "dbfsResultPath": null,
       "isJsonSchema": true,
       "metadata": {
        "createTempViewForImplicitDf": true,
        "dataframeName": "_sqldf",
        "executionCount": 92
       },
       "overflow": false,
       "plotOptions": {
        "customPlotOptions": {},
        "displayType": "table",
        "pivotAggregation": null,
        "pivotColumns": null,
        "xColumns": null,
        "yColumns": null
       },
       "removedWidgets": [],
       "schema": [
        {
         "metadata": "{}",
         "name": "id",
         "type": "\"integer\""
        },
        {
         "metadata": "{}",
         "name": "order_date",
         "type": "\"date\""
        },
        {
         "metadata": "{}",
         "name": "customer_id",
         "type": "\"integer\""
        },
        {
         "metadata": "{\"__CHAR_VARCHAR_TYPE_STRING\": \"varchar(50)\"}",
         "name": "customer_name",
         "type": "\"string\""
        },
        {
         "metadata": "{\"__CHAR_VARCHAR_TYPE_STRING\": \"varchar(100)\"}",
         "name": "email",
         "type": "\"string\""
        },
        {
         "metadata": "{}",
         "name": "product_id",
         "type": "\"integer\""
        },
        {
         "metadata": "{\"__CHAR_VARCHAR_TYPE_STRING\": \"varchar(50)\"}",
         "name": "product_name",
         "type": "\"string\""
        },
        {
         "metadata": "{\"__CHAR_VARCHAR_TYPE_STRING\": \"varchar(50)\"}",
         "name": "category",
         "type": "\"string\""
        },
        {
         "metadata": "{}",
         "name": "region_id",
         "type": "\"integer\""
        },
        {
         "metadata": "{\"__CHAR_VARCHAR_TYPE_STRING\": \"varchar(50)\"}",
         "name": "region_name",
         "type": "\"string\""
        },
        {
         "metadata": "{\"__CHAR_VARCHAR_TYPE_STRING\": \"varchar(50)\"}",
         "name": "region_group",
         "type": "\"string\""
        },
        {
         "metadata": "{\"__CHAR_VARCHAR_TYPE_STRING\": \"varchar(50)\"}",
         "name": "country",
         "type": "\"string\""
        },
        {
         "metadata": "{}",
         "name": "quantity",
         "type": "\"integer\""
        },
        {
         "metadata": "{}",
         "name": "unit_price",
         "type": "\"decimal(10,2)\""
        },
        {
         "metadata": "{}",
         "name": "total_price",
         "type": "\"decimal(10,2)\""
        }
       ],
       "type": "table"
      }
     },
     "output_type": "display_data"
    }
   ],
   "source": [
    "select * from Sales"
   ]
  },
  {
   "cell_type": "markdown",
   "metadata": {
    "application/vnd.databricks.v1+cell": {
     "cellMetadata": {},
     "inputWidgets": {},
     "nuid": "5c5a00e2-8855-4b41-92e2-f1f3c271b3ec",
     "showTitle": false,
     "tableResultSettingsMap": {},
     "title": ""
    }
   },
   "source": [
    "# Data WareHousing"
   ]
  },
  {
   "cell_type": "code",
   "execution_count": 0,
   "metadata": {
    "application/vnd.databricks.v1+cell": {
     "cellMetadata": {
      "byteLimit": 2048000,
      "rowLimit": 10000
     },
     "inputWidgets": {},
     "nuid": "49e343b3-c2a3-4c67-8be0-df5edaa2c537",
     "showTitle": false,
     "tableResultSettingsMap": {},
     "title": ""
    }
   },
   "outputs": [],
   "source": [
    "CREATE DATABASE SalesDWH"
   ]
  },
  {
   "cell_type": "markdown",
   "metadata": {
    "application/vnd.databricks.v1+cell": {
     "cellMetadata": {},
     "inputWidgets": {},
     "nuid": "e04f71f7-5ba0-43b3-a1f1-362006659d50",
     "showTitle": false,
     "tableResultSettingsMap": {},
     "title": ""
    }
   },
   "source": [
    "### Staging"
   ]
  },
  {
   "cell_type": "code",
   "execution_count": 0,
   "metadata": {
    "application/vnd.databricks.v1+cell": {
     "cellMetadata": {
      "byteLimit": 2048000,
      "rowLimit": 10000
     },
     "inputWidgets": {},
     "nuid": "2844ae2c-572c-4489-a828-c4dafb1712f2",
     "showTitle": false,
     "tableResultSettingsMap": {},
     "title": ""
    }
   },
   "outputs": [
    {
     "output_type": "display_data",
     "data": {
      "text/html": [
       "<style scoped>\n",
       "  .table-result-container {\n",
       "    max-height: 300px;\n",
       "    overflow: auto;\n",
       "  }\n",
       "  table, th, td {\n",
       "    border: 1px solid black;\n",
       "    border-collapse: collapse;\n",
       "  }\n",
       "  th, td {\n",
       "    padding: 5px;\n",
       "  }\n",
       "  th {\n",
       "    text-align: left;\n",
       "  }\n",
       "</style><div class='table-result-container'><table class='table-result'><thead style='background-color: white'><tr><th>num_affected_rows</th><th>num_inserted_rows</th></tr></thead><tbody></tbody></table></div>"
      ]
     },
     "metadata": {
      "application/vnd.databricks.v1+output": {
       "addedWidgets": {},
       "aggData": [],
       "aggError": "",
       "aggOverflow": false,
       "aggSchema": [],
       "aggSeriesLimitReached": false,
       "aggType": "",
       "arguments": {},
       "columnCustomDisplayInfos": {},
       "data": [],
       "datasetInfos": [
        {
         "name": "_sqldf",
         "schema": {
          "fields": [
           {
            "metadata": {},
            "name": "num_affected_rows",
            "nullable": true,
            "type": "long"
           },
           {
            "metadata": {},
            "name": "num_inserted_rows",
            "nullable": true,
            "type": "long"
           }
          ],
          "type": "struct"
         },
         "tableIdentifier": null,
         "typeStr": "pyspark.sql.connect.dataframe.DataFrame"
        }
       ],
       "dbfsResultPath": null,
       "isJsonSchema": true,
       "metadata": {
        "createTempViewForImplicitDf": true,
        "dataframeName": "_sqldf",
        "executionCount": 96
       },
       "overflow": false,
       "plotOptions": {
        "customPlotOptions": {},
        "displayType": "table",
        "pivotAggregation": null,
        "pivotColumns": null,
        "xColumns": null,
        "yColumns": null
       },
       "removedWidgets": [],
       "schema": [
        {
         "metadata": "{}",
         "name": "num_affected_rows",
         "type": "\"long\""
        },
        {
         "metadata": "{}",
         "name": "num_inserted_rows",
         "type": "\"long\""
        }
       ],
       "type": "table"
      }
     },
     "output_type": "display_data"
    }
   ],
   "source": [
    "--Initial Load--\n",
    "\n",
    "CREATE OR REPLACE TABLE salesdwh.stg_sales\n",
    "AS\n",
    "SELECT * FROM sales\n",
    "WHERE order_date > '2024-02-19'"
   ]
  },
  {
   "cell_type": "code",
   "execution_count": 0,
   "metadata": {
    "application/vnd.databricks.v1+cell": {
     "cellMetadata": {
      "byteLimit": 2048000,
      "rowLimit": 10000
     },
     "inputWidgets": {},
     "nuid": "b56826e0-ccf4-4216-ac4d-8925a58efdff",
     "showTitle": false,
     "tableResultSettingsMap": {},
     "title": ""
    }
   },
   "outputs": [
    {
     "output_type": "display_data",
     "data": {
      "text/html": [
       "<style scoped>\n",
       "  .table-result-container {\n",
       "    max-height: 300px;\n",
       "    overflow: auto;\n",
       "  }\n",
       "  table, th, td {\n",
       "    border: 1px solid black;\n",
       "    border-collapse: collapse;\n",
       "  }\n",
       "  th, td {\n",
       "    padding: 5px;\n",
       "  }\n",
       "  th {\n",
       "    text-align: left;\n",
       "  }\n",
       "</style><div class='table-result-container'><table class='table-result'><thead style='background-color: white'><tr><th>id</th><th>order_date</th><th>customer_id</th><th>customer_name</th><th>email</th><th>product_id</th><th>product_name</th><th>category</th><th>region_id</th><th>region_name</th><th>region_group</th><th>country</th><th>quantity</th><th>unit_price</th><th>total_price</th></tr></thead><tbody><tr><td>20</td><td>2024-02-20</td><td>120</td><td>Tina Cole</td><td>tina@example.com</td><td>220</td><td>Smart TV</td><td>Electronics</td><td>320</td><td>Asia</td><td>China</td><td>India</td><td>1</td><td>1200.00</td><td>1200.00</td></tr><tr><td>21</td><td>2024-02-21</td><td>121</td><td>Uma Patel</td><td>uma@example.com</td><td>221</td><td>Drone</td><td>Electronics</td><td>321</td><td>Asia</td><td>India</td><td>Singapore</td><td>1</td><td>950.00</td><td>950.00</td></tr><tr><td>22</td><td>2024-02-22</td><td>122</td><td>Victor Shaw</td><td>victor@example.com</td><td>222</td><td>Bluetooth Speaker</td><td>Accessories</td><td>322</td><td>Europe</td><td>Germany</td><td>Italy</td><td>3</td><td>180.00</td><td>540.00</td></tr><tr><td>23</td><td>2024-02-23</td><td>123</td><td>Wendy Brooks</td><td>wendy@example.com</td><td>223</td><td>Fitness Tracker</td><td>Electronics</td><td>323</td><td>North America</td><td>USA</td><td>Canada</td><td>2</td><td>220.00</td><td>440.00</td></tr><tr><td>24</td><td>2024-02-24</td><td>124</td><td>Xavier Hunt</td><td>xavier@example.com</td><td>224</td><td>External Hard Drive</td><td>Accessories</td><td>324</td><td>Europe</td><td>France</td><td>Spain</td><td>1</td><td>350.00</td><td>350.00</td></tr><tr><td>25</td><td>2024-02-25</td><td>125</td><td>Yvonne Long</td><td>yvonne@example.com</td><td>225</td><td>Graphic Tablet</td><td>Electronics</td><td>325</td><td>Asia</td><td>Japan</td><td>China</td><td>1</td><td>480.00</td><td>480.00</td></tr></tbody></table></div>"
      ]
     },
     "metadata": {
      "application/vnd.databricks.v1+output": {
       "addedWidgets": {},
       "aggData": [],
       "aggError": "",
       "aggOverflow": false,
       "aggSchema": [],
       "aggSeriesLimitReached": false,
       "aggType": "",
       "arguments": {},
       "columnCustomDisplayInfos": {},
       "data": [
        [
         20,
         "2024-02-20",
         120,
         "Tina Cole",
         "tina@example.com",
         220,
         "Smart TV",
         "Electronics",
         320,
         "Asia",
         "China",
         "India",
         1,
         "1200.00",
         "1200.00"
        ],
        [
         21,
         "2024-02-21",
         121,
         "Uma Patel",
         "uma@example.com",
         221,
         "Drone",
         "Electronics",
         321,
         "Asia",
         "India",
         "Singapore",
         1,
         "950.00",
         "950.00"
        ],
        [
         22,
         "2024-02-22",
         122,
         "Victor Shaw",
         "victor@example.com",
         222,
         "Bluetooth Speaker",
         "Accessories",
         322,
         "Europe",
         "Germany",
         "Italy",
         3,
         "180.00",
         "540.00"
        ],
        [
         23,
         "2024-02-23",
         123,
         "Wendy Brooks",
         "wendy@example.com",
         223,
         "Fitness Tracker",
         "Electronics",
         323,
         "North America",
         "USA",
         "Canada",
         2,
         "220.00",
         "440.00"
        ],
        [
         24,
         "2024-02-24",
         124,
         "Xavier Hunt",
         "xavier@example.com",
         224,
         "External Hard Drive",
         "Accessories",
         324,
         "Europe",
         "France",
         "Spain",
         1,
         "350.00",
         "350.00"
        ],
        [
         25,
         "2024-02-25",
         125,
         "Yvonne Long",
         "yvonne@example.com",
         225,
         "Graphic Tablet",
         "Electronics",
         325,
         "Asia",
         "Japan",
         "China",
         1,
         "480.00",
         "480.00"
        ]
       ],
       "datasetInfos": [
        {
         "name": "_sqldf",
         "schema": {
          "fields": [
           {
            "metadata": {},
            "name": "id",
            "nullable": true,
            "type": "integer"
           },
           {
            "metadata": {},
            "name": "order_date",
            "nullable": true,
            "type": "date"
           },
           {
            "metadata": {},
            "name": "customer_id",
            "nullable": true,
            "type": "integer"
           },
           {
            "metadata": {
             "__CHAR_VARCHAR_TYPE_STRING": "varchar(50)"
            },
            "name": "customer_name",
            "nullable": true,
            "type": "string"
           },
           {
            "metadata": {
             "__CHAR_VARCHAR_TYPE_STRING": "varchar(100)"
            },
            "name": "email",
            "nullable": true,
            "type": "string"
           },
           {
            "metadata": {},
            "name": "product_id",
            "nullable": true,
            "type": "integer"
           },
           {
            "metadata": {
             "__CHAR_VARCHAR_TYPE_STRING": "varchar(50)"
            },
            "name": "product_name",
            "nullable": true,
            "type": "string"
           },
           {
            "metadata": {
             "__CHAR_VARCHAR_TYPE_STRING": "varchar(50)"
            },
            "name": "category",
            "nullable": true,
            "type": "string"
           },
           {
            "metadata": {},
            "name": "region_id",
            "nullable": true,
            "type": "integer"
           },
           {
            "metadata": {
             "__CHAR_VARCHAR_TYPE_STRING": "varchar(50)"
            },
            "name": "region_name",
            "nullable": true,
            "type": "string"
           },
           {
            "metadata": {
             "__CHAR_VARCHAR_TYPE_STRING": "varchar(50)"
            },
            "name": "region_group",
            "nullable": true,
            "type": "string"
           },
           {
            "metadata": {
             "__CHAR_VARCHAR_TYPE_STRING": "varchar(50)"
            },
            "name": "country",
            "nullable": true,
            "type": "string"
           },
           {
            "metadata": {},
            "name": "quantity",
            "nullable": true,
            "type": "integer"
           },
           {
            "metadata": {},
            "name": "unit_price",
            "nullable": true,
            "type": "decimal(10,2)"
           },
           {
            "metadata": {},
            "name": "total_price",
            "nullable": true,
            "type": "decimal(10,2)"
           }
          ],
          "type": "struct"
         },
         "tableIdentifier": null,
         "typeStr": "pyspark.sql.connect.dataframe.DataFrame"
        }
       ],
       "dbfsResultPath": null,
       "isJsonSchema": true,
       "metadata": {
        "createTempViewForImplicitDf": true,
        "dataframeName": "_sqldf",
        "executionCount": 97
       },
       "overflow": false,
       "plotOptions": {
        "customPlotOptions": {},
        "displayType": "table",
        "pivotAggregation": null,
        "pivotColumns": null,
        "xColumns": null,
        "yColumns": null
       },
       "removedWidgets": [],
       "schema": [
        {
         "metadata": "{}",
         "name": "id",
         "type": "\"integer\""
        },
        {
         "metadata": "{}",
         "name": "order_date",
         "type": "\"date\""
        },
        {
         "metadata": "{}",
         "name": "customer_id",
         "type": "\"integer\""
        },
        {
         "metadata": "{\"__CHAR_VARCHAR_TYPE_STRING\": \"varchar(50)\"}",
         "name": "customer_name",
         "type": "\"string\""
        },
        {
         "metadata": "{\"__CHAR_VARCHAR_TYPE_STRING\": \"varchar(100)\"}",
         "name": "email",
         "type": "\"string\""
        },
        {
         "metadata": "{}",
         "name": "product_id",
         "type": "\"integer\""
        },
        {
         "metadata": "{\"__CHAR_VARCHAR_TYPE_STRING\": \"varchar(50)\"}",
         "name": "product_name",
         "type": "\"string\""
        },
        {
         "metadata": "{\"__CHAR_VARCHAR_TYPE_STRING\": \"varchar(50)\"}",
         "name": "category",
         "type": "\"string\""
        },
        {
         "metadata": "{}",
         "name": "region_id",
         "type": "\"integer\""
        },
        {
         "metadata": "{\"__CHAR_VARCHAR_TYPE_STRING\": \"varchar(50)\"}",
         "name": "region_name",
         "type": "\"string\""
        },
        {
         "metadata": "{\"__CHAR_VARCHAR_TYPE_STRING\": \"varchar(50)\"}",
         "name": "region_group",
         "type": "\"string\""
        },
        {
         "metadata": "{\"__CHAR_VARCHAR_TYPE_STRING\": \"varchar(50)\"}",
         "name": "country",
         "type": "\"string\""
        },
        {
         "metadata": "{}",
         "name": "quantity",
         "type": "\"integer\""
        },
        {
         "metadata": "{}",
         "name": "unit_price",
         "type": "\"decimal(10,2)\""
        },
        {
         "metadata": "{}",
         "name": "total_price",
         "type": "\"decimal(10,2)\""
        }
       ],
       "type": "table"
      }
     },
     "output_type": "display_data"
    }
   ],
   "source": [
    "select * from salesdwh.stg_sales"
   ]
  },
  {
   "cell_type": "markdown",
   "metadata": {
    "application/vnd.databricks.v1+cell": {
     "cellMetadata": {},
     "inputWidgets": {},
     "nuid": "5994a93e-7ae9-4f59-ab9c-65a59ea23d0a",
     "showTitle": false,
     "tableResultSettingsMap": {},
     "title": ""
    }
   },
   "source": [
    "### Transformation"
   ]
  },
  {
   "cell_type": "code",
   "execution_count": 0,
   "metadata": {
    "application/vnd.databricks.v1+cell": {
     "cellMetadata": {
      "byteLimit": 2048000,
      "rowLimit": 10000
     },
     "inputWidgets": {},
     "nuid": "64e3d565-f5da-48de-a91b-576956c57b74",
     "showTitle": false,
     "tableResultSettingsMap": {},
     "title": ""
    }
   },
   "outputs": [
    {
     "output_type": "display_data",
     "data": {
      "text/html": [
       "<style scoped>\n",
       "  .table-result-container {\n",
       "    max-height: 300px;\n",
       "    overflow: auto;\n",
       "  }\n",
       "  table, th, td {\n",
       "    border: 1px solid black;\n",
       "    border-collapse: collapse;\n",
       "  }\n",
       "  th, td {\n",
       "    padding: 5px;\n",
       "  }\n",
       "  th {\n",
       "    text-align: left;\n",
       "  }\n",
       "</style><div class='table-result-container'><table class='table-result'><thead style='background-color: white'><tr><th>id</th><th>order_date</th><th>customer_id</th><th>customer_name</th><th>email</th><th>product_id</th><th>product_name</th><th>category</th><th>region_id</th><th>region_name</th><th>region_group</th><th>country</th><th>quantity</th><th>unit_price</th><th>total_price</th></tr></thead><tbody></tbody></table></div>"
      ]
     },
     "metadata": {
      "application/vnd.databricks.v1+output": {
       "addedWidgets": {},
       "aggData": [],
       "aggError": "",
       "aggOverflow": false,
       "aggSchema": [],
       "aggSeriesLimitReached": false,
       "aggType": "",
       "arguments": {},
       "columnCustomDisplayInfos": {},
       "data": [],
       "datasetInfos": [
        {
         "name": "_sqldf",
         "schema": {
          "fields": [
           {
            "metadata": {},
            "name": "id",
            "nullable": true,
            "type": "integer"
           },
           {
            "metadata": {},
            "name": "order_date",
            "nullable": true,
            "type": "date"
           },
           {
            "metadata": {},
            "name": "customer_id",
            "nullable": true,
            "type": "integer"
           },
           {
            "metadata": {
             "__CHAR_VARCHAR_TYPE_STRING": "varchar(50)"
            },
            "name": "customer_name",
            "nullable": true,
            "type": "string"
           },
           {
            "metadata": {
             "__CHAR_VARCHAR_TYPE_STRING": "varchar(100)"
            },
            "name": "email",
            "nullable": true,
            "type": "string"
           },
           {
            "metadata": {},
            "name": "product_id",
            "nullable": true,
            "type": "integer"
           },
           {
            "metadata": {
             "__CHAR_VARCHAR_TYPE_STRING": "varchar(50)"
            },
            "name": "product_name",
            "nullable": true,
            "type": "string"
           },
           {
            "metadata": {
             "__CHAR_VARCHAR_TYPE_STRING": "varchar(50)"
            },
            "name": "category",
            "nullable": true,
            "type": "string"
           },
           {
            "metadata": {},
            "name": "region_id",
            "nullable": true,
            "type": "integer"
           },
           {
            "metadata": {
             "__CHAR_VARCHAR_TYPE_STRING": "varchar(50)"
            },
            "name": "region_name",
            "nullable": true,
            "type": "string"
           },
           {
            "metadata": {
             "__CHAR_VARCHAR_TYPE_STRING": "varchar(50)"
            },
            "name": "region_group",
            "nullable": true,
            "type": "string"
           },
           {
            "metadata": {
             "__CHAR_VARCHAR_TYPE_STRING": "varchar(50)"
            },
            "name": "country",
            "nullable": true,
            "type": "string"
           },
           {
            "metadata": {},
            "name": "quantity",
            "nullable": true,
            "type": "integer"
           },
           {
            "metadata": {},
            "name": "unit_price",
            "nullable": true,
            "type": "decimal(10,2)"
           },
           {
            "metadata": {},
            "name": "total_price",
            "nullable": true,
            "type": "decimal(10,2)"
           }
          ],
          "type": "struct"
         },
         "tableIdentifier": null,
         "typeStr": "pyspark.sql.connect.dataframe.DataFrame"
        }
       ],
       "dbfsResultPath": null,
       "isJsonSchema": true,
       "metadata": {
        "createTempViewForImplicitDf": true,
        "dataframeName": "_sqldf",
        "executionCount": 99
       },
       "overflow": false,
       "plotOptions": {
        "customPlotOptions": {},
        "displayType": "table",
        "pivotAggregation": null,
        "pivotColumns": null,
        "xColumns": null,
        "yColumns": null
       },
       "removedWidgets": [],
       "schema": [
        {
         "metadata": "{}",
         "name": "id",
         "type": "\"integer\""
        },
        {
         "metadata": "{}",
         "name": "order_date",
         "type": "\"date\""
        },
        {
         "metadata": "{}",
         "name": "customer_id",
         "type": "\"integer\""
        },
        {
         "metadata": "{\"__CHAR_VARCHAR_TYPE_STRING\": \"varchar(50)\"}",
         "name": "customer_name",
         "type": "\"string\""
        },
        {
         "metadata": "{\"__CHAR_VARCHAR_TYPE_STRING\": \"varchar(100)\"}",
         "name": "email",
         "type": "\"string\""
        },
        {
         "metadata": "{}",
         "name": "product_id",
         "type": "\"integer\""
        },
        {
         "metadata": "{\"__CHAR_VARCHAR_TYPE_STRING\": \"varchar(50)\"}",
         "name": "product_name",
         "type": "\"string\""
        },
        {
         "metadata": "{\"__CHAR_VARCHAR_TYPE_STRING\": \"varchar(50)\"}",
         "name": "category",
         "type": "\"string\""
        },
        {
         "metadata": "{}",
         "name": "region_id",
         "type": "\"integer\""
        },
        {
         "metadata": "{\"__CHAR_VARCHAR_TYPE_STRING\": \"varchar(50)\"}",
         "name": "region_name",
         "type": "\"string\""
        },
        {
         "metadata": "{\"__CHAR_VARCHAR_TYPE_STRING\": \"varchar(50)\"}",
         "name": "region_group",
         "type": "\"string\""
        },
        {
         "metadata": "{\"__CHAR_VARCHAR_TYPE_STRING\": \"varchar(50)\"}",
         "name": "country",
         "type": "\"string\""
        },
        {
         "metadata": "{}",
         "name": "quantity",
         "type": "\"integer\""
        },
        {
         "metadata": "{}",
         "name": "unit_price",
         "type": "\"decimal(10,2)\""
        },
        {
         "metadata": "{}",
         "name": "total_price",
         "type": "\"decimal(10,2)\""
        }
       ],
       "type": "table"
      }
     },
     "output_type": "display_data"
    }
   ],
   "source": [
    "SELECT * FROM salesdwh.stg_sales WHERE quantity IS NULL"
   ]
  },
  {
   "cell_type": "code",
   "execution_count": 0,
   "metadata": {
    "application/vnd.databricks.v1+cell": {
     "cellMetadata": {
      "byteLimit": 2048000,
      "rowLimit": 10000
     },
     "inputWidgets": {},
     "nuid": "6bcfbcdd-f459-4502-b8e9-29b80b6980df",
     "showTitle": false,
     "tableResultSettingsMap": {},
     "title": ""
    }
   },
   "outputs": [],
   "source": [
    "CREATE OR REPLACE VIEW salesdwh.trans_sales\n",
    "AS\n",
    "SELECT * FROM salesdwh.stg_sales"
   ]
  },
  {
   "cell_type": "code",
   "execution_count": 0,
   "metadata": {
    "application/vnd.databricks.v1+cell": {
     "cellMetadata": {
      "byteLimit": 2048000,
      "rowLimit": 10000
     },
     "inputWidgets": {},
     "nuid": "2c7b804c-4e58-422a-88ab-e197dd377c5f",
     "showTitle": false,
     "tableResultSettingsMap": {},
     "title": ""
    }
   },
   "outputs": [
    {
     "output_type": "display_data",
     "data": {
      "text/html": [
       "<style scoped>\n",
       "  .table-result-container {\n",
       "    max-height: 300px;\n",
       "    overflow: auto;\n",
       "  }\n",
       "  table, th, td {\n",
       "    border: 1px solid black;\n",
       "    border-collapse: collapse;\n",
       "  }\n",
       "  th, td {\n",
       "    padding: 5px;\n",
       "  }\n",
       "  th {\n",
       "    text-align: left;\n",
       "  }\n",
       "</style><div class='table-result-container'><table class='table-result'><thead style='background-color: white'><tr><th>id</th><th>order_date</th><th>customer_id</th><th>customer_name</th><th>email</th><th>product_id</th><th>product_name</th><th>category</th><th>region_id</th><th>region_name</th><th>region_group</th><th>country</th><th>quantity</th><th>unit_price</th><th>total_price</th></tr></thead><tbody><tr><td>20</td><td>2024-02-20</td><td>120</td><td>Tina Cole</td><td>tina@example.com</td><td>220</td><td>Smart TV</td><td>Electronics</td><td>320</td><td>Asia</td><td>China</td><td>India</td><td>1</td><td>1200.00</td><td>1200.00</td></tr><tr><td>21</td><td>2024-02-21</td><td>121</td><td>Uma Patel</td><td>uma@example.com</td><td>221</td><td>Drone</td><td>Electronics</td><td>321</td><td>Asia</td><td>India</td><td>Singapore</td><td>1</td><td>950.00</td><td>950.00</td></tr><tr><td>22</td><td>2024-02-22</td><td>122</td><td>Victor Shaw</td><td>victor@example.com</td><td>222</td><td>Bluetooth Speaker</td><td>Accessories</td><td>322</td><td>Europe</td><td>Germany</td><td>Italy</td><td>3</td><td>180.00</td><td>540.00</td></tr><tr><td>23</td><td>2024-02-23</td><td>123</td><td>Wendy Brooks</td><td>wendy@example.com</td><td>223</td><td>Fitness Tracker</td><td>Electronics</td><td>323</td><td>North America</td><td>USA</td><td>Canada</td><td>2</td><td>220.00</td><td>440.00</td></tr><tr><td>24</td><td>2024-02-24</td><td>124</td><td>Xavier Hunt</td><td>xavier@example.com</td><td>224</td><td>External Hard Drive</td><td>Accessories</td><td>324</td><td>Europe</td><td>France</td><td>Spain</td><td>1</td><td>350.00</td><td>350.00</td></tr><tr><td>25</td><td>2024-02-25</td><td>125</td><td>Yvonne Long</td><td>yvonne@example.com</td><td>225</td><td>Graphic Tablet</td><td>Electronics</td><td>325</td><td>Asia</td><td>Japan</td><td>China</td><td>1</td><td>480.00</td><td>480.00</td></tr></tbody></table></div>"
      ]
     },
     "metadata": {
      "application/vnd.databricks.v1+output": {
       "addedWidgets": {},
       "aggData": [],
       "aggError": "",
       "aggOverflow": false,
       "aggSchema": [],
       "aggSeriesLimitReached": false,
       "aggType": "",
       "arguments": {},
       "columnCustomDisplayInfos": {},
       "data": [
        [
         20,
         "2024-02-20",
         120,
         "Tina Cole",
         "tina@example.com",
         220,
         "Smart TV",
         "Electronics",
         320,
         "Asia",
         "China",
         "India",
         1,
         "1200.00",
         "1200.00"
        ],
        [
         21,
         "2024-02-21",
         121,
         "Uma Patel",
         "uma@example.com",
         221,
         "Drone",
         "Electronics",
         321,
         "Asia",
         "India",
         "Singapore",
         1,
         "950.00",
         "950.00"
        ],
        [
         22,
         "2024-02-22",
         122,
         "Victor Shaw",
         "victor@example.com",
         222,
         "Bluetooth Speaker",
         "Accessories",
         322,
         "Europe",
         "Germany",
         "Italy",
         3,
         "180.00",
         "540.00"
        ],
        [
         23,
         "2024-02-23",
         123,
         "Wendy Brooks",
         "wendy@example.com",
         223,
         "Fitness Tracker",
         "Electronics",
         323,
         "North America",
         "USA",
         "Canada",
         2,
         "220.00",
         "440.00"
        ],
        [
         24,
         "2024-02-24",
         124,
         "Xavier Hunt",
         "xavier@example.com",
         224,
         "External Hard Drive",
         "Accessories",
         324,
         "Europe",
         "France",
         "Spain",
         1,
         "350.00",
         "350.00"
        ],
        [
         25,
         "2024-02-25",
         125,
         "Yvonne Long",
         "yvonne@example.com",
         225,
         "Graphic Tablet",
         "Electronics",
         325,
         "Asia",
         "Japan",
         "China",
         1,
         "480.00",
         "480.00"
        ]
       ],
       "datasetInfos": [
        {
         "name": "_sqldf",
         "schema": {
          "fields": [
           {
            "metadata": {},
            "name": "id",
            "nullable": true,
            "type": "integer"
           },
           {
            "metadata": {},
            "name": "order_date",
            "nullable": true,
            "type": "date"
           },
           {
            "metadata": {},
            "name": "customer_id",
            "nullable": true,
            "type": "integer"
           },
           {
            "metadata": {
             "__CHAR_VARCHAR_TYPE_STRING": "varchar(50)"
            },
            "name": "customer_name",
            "nullable": true,
            "type": "string"
           },
           {
            "metadata": {
             "__CHAR_VARCHAR_TYPE_STRING": "varchar(100)"
            },
            "name": "email",
            "nullable": true,
            "type": "string"
           },
           {
            "metadata": {},
            "name": "product_id",
            "nullable": true,
            "type": "integer"
           },
           {
            "metadata": {
             "__CHAR_VARCHAR_TYPE_STRING": "varchar(50)"
            },
            "name": "product_name",
            "nullable": true,
            "type": "string"
           },
           {
            "metadata": {
             "__CHAR_VARCHAR_TYPE_STRING": "varchar(50)"
            },
            "name": "category",
            "nullable": true,
            "type": "string"
           },
           {
            "metadata": {},
            "name": "region_id",
            "nullable": true,
            "type": "integer"
           },
           {
            "metadata": {
             "__CHAR_VARCHAR_TYPE_STRING": "varchar(50)"
            },
            "name": "region_name",
            "nullable": true,
            "type": "string"
           },
           {
            "metadata": {
             "__CHAR_VARCHAR_TYPE_STRING": "varchar(50)"
            },
            "name": "region_group",
            "nullable": true,
            "type": "string"
           },
           {
            "metadata": {
             "__CHAR_VARCHAR_TYPE_STRING": "varchar(50)"
            },
            "name": "country",
            "nullable": true,
            "type": "string"
           },
           {
            "metadata": {},
            "name": "quantity",
            "nullable": true,
            "type": "integer"
           },
           {
            "metadata": {},
            "name": "unit_price",
            "nullable": true,
            "type": "decimal(10,2)"
           },
           {
            "metadata": {},
            "name": "total_price",
            "nullable": true,
            "type": "decimal(10,2)"
           }
          ],
          "type": "struct"
         },
         "tableIdentifier": null,
         "typeStr": "pyspark.sql.connect.dataframe.DataFrame"
        }
       ],
       "dbfsResultPath": null,
       "isJsonSchema": true,
       "metadata": {
        "createTempViewForImplicitDf": true,
        "dataframeName": "_sqldf",
        "executionCount": 104
       },
       "overflow": false,
       "plotOptions": {
        "customPlotOptions": {},
        "displayType": "table",
        "pivotAggregation": null,
        "pivotColumns": null,
        "xColumns": null,
        "yColumns": null
       },
       "removedWidgets": [],
       "schema": [
        {
         "metadata": "{}",
         "name": "id",
         "type": "\"integer\""
        },
        {
         "metadata": "{}",
         "name": "order_date",
         "type": "\"date\""
        },
        {
         "metadata": "{}",
         "name": "customer_id",
         "type": "\"integer\""
        },
        {
         "metadata": "{\"__CHAR_VARCHAR_TYPE_STRING\": \"varchar(50)\"}",
         "name": "customer_name",
         "type": "\"string\""
        },
        {
         "metadata": "{\"__CHAR_VARCHAR_TYPE_STRING\": \"varchar(100)\"}",
         "name": "email",
         "type": "\"string\""
        },
        {
         "metadata": "{}",
         "name": "product_id",
         "type": "\"integer\""
        },
        {
         "metadata": "{\"__CHAR_VARCHAR_TYPE_STRING\": \"varchar(50)\"}",
         "name": "product_name",
         "type": "\"string\""
        },
        {
         "metadata": "{\"__CHAR_VARCHAR_TYPE_STRING\": \"varchar(50)\"}",
         "name": "category",
         "type": "\"string\""
        },
        {
         "metadata": "{}",
         "name": "region_id",
         "type": "\"integer\""
        },
        {
         "metadata": "{\"__CHAR_VARCHAR_TYPE_STRING\": \"varchar(50)\"}",
         "name": "region_name",
         "type": "\"string\""
        },
        {
         "metadata": "{\"__CHAR_VARCHAR_TYPE_STRING\": \"varchar(50)\"}",
         "name": "region_group",
         "type": "\"string\""
        },
        {
         "metadata": "{\"__CHAR_VARCHAR_TYPE_STRING\": \"varchar(50)\"}",
         "name": "country",
         "type": "\"string\""
        },
        {
         "metadata": "{}",
         "name": "quantity",
         "type": "\"integer\""
        },
        {
         "metadata": "{}",
         "name": "unit_price",
         "type": "\"decimal(10,2)\""
        },
        {
         "metadata": "{}",
         "name": "total_price",
         "type": "\"decimal(10,2)\""
        }
       ],
       "type": "table"
      }
     },
     "output_type": "display_data"
    }
   ],
   "source": [
    "select * from salesdwh.trans_sales"
   ]
  },
  {
   "cell_type": "markdown",
   "metadata": {
    "application/vnd.databricks.v1+cell": {
     "cellMetadata": {},
     "inputWidgets": {},
     "nuid": "070da844-27d9-4cd4-87db-efe27ab62e39",
     "showTitle": false,
     "tableResultSettingsMap": {},
     "title": ""
    }
   },
   "source": [
    "### Core Layer"
   ]
  },
  {
   "cell_type": "code",
   "execution_count": 0,
   "metadata": {
    "application/vnd.databricks.v1+cell": {
     "cellMetadata": {
      "byteLimit": 2048000,
      "rowLimit": 10000
     },
     "inputWidgets": {},
     "nuid": "97dfb5ab-d374-4160-978b-2a5e35903fa0",
     "showTitle": false,
     "tableResultSettingsMap": {},
     "title": ""
    }
   },
   "outputs": [
    {
     "output_type": "display_data",
     "data": {
      "text/html": [
       "<style scoped>\n",
       "  .table-result-container {\n",
       "    max-height: 300px;\n",
       "    overflow: auto;\n",
       "  }\n",
       "  table, th, td {\n",
       "    border: 1px solid black;\n",
       "    border-collapse: collapse;\n",
       "  }\n",
       "  th, td {\n",
       "    padding: 5px;\n",
       "  }\n",
       "  th {\n",
       "    text-align: left;\n",
       "  }\n",
       "</style><div class='table-result-container'><table class='table-result'><thead style='background-color: white'><tr><th>num_affected_rows</th><th>num_inserted_rows</th></tr></thead><tbody></tbody></table></div>"
      ]
     },
     "metadata": {
      "application/vnd.databricks.v1+output": {
       "addedWidgets": {},
       "aggData": [],
       "aggError": "",
       "aggOverflow": false,
       "aggSchema": [],
       "aggSeriesLimitReached": false,
       "aggType": "",
       "arguments": {},
       "columnCustomDisplayInfos": {},
       "data": [],
       "datasetInfos": [
        {
         "name": "_sqldf",
         "schema": {
          "fields": [
           {
            "metadata": {},
            "name": "num_affected_rows",
            "nullable": true,
            "type": "long"
           },
           {
            "metadata": {},
            "name": "num_inserted_rows",
            "nullable": true,
            "type": "long"
           }
          ],
          "type": "struct"
         },
         "tableIdentifier": null,
         "typeStr": "pyspark.sql.connect.dataframe.DataFrame"
        }
       ],
       "dbfsResultPath": null,
       "isJsonSchema": true,
       "metadata": {
        "createTempViewForImplicitDf": true,
        "dataframeName": "_sqldf",
        "executionCount": 106
       },
       "overflow": false,
       "plotOptions": {
        "customPlotOptions": {},
        "displayType": "table",
        "pivotAggregation": null,
        "pivotColumns": null,
        "xColumns": null,
        "yColumns": null
       },
       "removedWidgets": [],
       "schema": [
        {
         "metadata": "{}",
         "name": "num_affected_rows",
         "type": "\"long\""
        },
        {
         "metadata": "{}",
         "name": "num_inserted_rows",
         "type": "\"long\""
        }
       ],
       "type": "table"
      }
     },
     "output_type": "display_data"
    }
   ],
   "source": [
    "CREATE OR REPLACE TABLE salesdwh.core_sales\n",
    "AS\n",
    "SELECT * FROM salesdwh.trans_sales"
   ]
  },
  {
   "cell_type": "markdown",
   "metadata": {
    "application/vnd.databricks.v1+cell": {
     "cellMetadata": {},
     "inputWidgets": {},
     "nuid": "f31e825e-7733-45d7-86f7-e42ef890545d",
     "showTitle": false,
     "tableResultSettingsMap": {},
     "title": ""
    }
   },
   "source": [
    "### DataWarehouse Core Layer Display"
   ]
  },
  {
   "cell_type": "code",
   "execution_count": 0,
   "metadata": {
    "application/vnd.databricks.v1+cell": {
     "cellMetadata": {
      "byteLimit": 2048000,
      "rowLimit": 10000
     },
     "inputWidgets": {},
     "nuid": "f0a1ca3e-5434-4c1f-898f-6346b3c1eb76",
     "showTitle": false,
     "tableResultSettingsMap": {},
     "title": ""
    }
   },
   "outputs": [
    {
     "output_type": "display_data",
     "data": {
      "text/html": [
       "<style scoped>\n",
       "  .table-result-container {\n",
       "    max-height: 300px;\n",
       "    overflow: auto;\n",
       "  }\n",
       "  table, th, td {\n",
       "    border: 1px solid black;\n",
       "    border-collapse: collapse;\n",
       "  }\n",
       "  th, td {\n",
       "    padding: 5px;\n",
       "  }\n",
       "  th {\n",
       "    text-align: left;\n",
       "  }\n",
       "</style><div class='table-result-container'><table class='table-result'><thead style='background-color: white'><tr><th>id</th><th>order_date</th><th>customer_id</th><th>customer_name</th><th>email</th><th>product_id</th><th>product_name</th><th>category</th><th>region_id</th><th>region_name</th><th>region_group</th><th>country</th><th>quantity</th><th>unit_price</th><th>total_price</th></tr></thead><tbody><tr><td>20</td><td>2024-02-20</td><td>120</td><td>Tina Cole</td><td>tina@example.com</td><td>220</td><td>Smart TV</td><td>Electronics</td><td>320</td><td>Asia</td><td>China</td><td>India</td><td>1</td><td>1200.00</td><td>1200.00</td></tr><tr><td>21</td><td>2024-02-21</td><td>121</td><td>Uma Patel</td><td>uma@example.com</td><td>221</td><td>Drone</td><td>Electronics</td><td>321</td><td>Asia</td><td>India</td><td>Singapore</td><td>1</td><td>950.00</td><td>950.00</td></tr><tr><td>22</td><td>2024-02-22</td><td>122</td><td>Victor Shaw</td><td>victor@example.com</td><td>222</td><td>Bluetooth Speaker</td><td>Accessories</td><td>322</td><td>Europe</td><td>Germany</td><td>Italy</td><td>3</td><td>180.00</td><td>540.00</td></tr><tr><td>23</td><td>2024-02-23</td><td>123</td><td>Wendy Brooks</td><td>wendy@example.com</td><td>223</td><td>Fitness Tracker</td><td>Electronics</td><td>323</td><td>North America</td><td>USA</td><td>Canada</td><td>2</td><td>220.00</td><td>440.00</td></tr><tr><td>24</td><td>2024-02-24</td><td>124</td><td>Xavier Hunt</td><td>xavier@example.com</td><td>224</td><td>External Hard Drive</td><td>Accessories</td><td>324</td><td>Europe</td><td>France</td><td>Spain</td><td>1</td><td>350.00</td><td>350.00</td></tr><tr><td>25</td><td>2024-02-25</td><td>125</td><td>Yvonne Long</td><td>yvonne@example.com</td><td>225</td><td>Graphic Tablet</td><td>Electronics</td><td>325</td><td>Asia</td><td>Japan</td><td>China</td><td>1</td><td>480.00</td><td>480.00</td></tr></tbody></table></div>"
      ]
     },
     "metadata": {
      "application/vnd.databricks.v1+output": {
       "addedWidgets": {},
       "aggData": [],
       "aggError": "",
       "aggOverflow": false,
       "aggSchema": [],
       "aggSeriesLimitReached": false,
       "aggType": "",
       "arguments": {},
       "columnCustomDisplayInfos": {},
       "data": [
        [
         20,
         "2024-02-20",
         120,
         "Tina Cole",
         "tina@example.com",
         220,
         "Smart TV",
         "Electronics",
         320,
         "Asia",
         "China",
         "India",
         1,
         "1200.00",
         "1200.00"
        ],
        [
         21,
         "2024-02-21",
         121,
         "Uma Patel",
         "uma@example.com",
         221,
         "Drone",
         "Electronics",
         321,
         "Asia",
         "India",
         "Singapore",
         1,
         "950.00",
         "950.00"
        ],
        [
         22,
         "2024-02-22",
         122,
         "Victor Shaw",
         "victor@example.com",
         222,
         "Bluetooth Speaker",
         "Accessories",
         322,
         "Europe",
         "Germany",
         "Italy",
         3,
         "180.00",
         "540.00"
        ],
        [
         23,
         "2024-02-23",
         123,
         "Wendy Brooks",
         "wendy@example.com",
         223,
         "Fitness Tracker",
         "Electronics",
         323,
         "North America",
         "USA",
         "Canada",
         2,
         "220.00",
         "440.00"
        ],
        [
         24,
         "2024-02-24",
         124,
         "Xavier Hunt",
         "xavier@example.com",
         224,
         "External Hard Drive",
         "Accessories",
         324,
         "Europe",
         "France",
         "Spain",
         1,
         "350.00",
         "350.00"
        ],
        [
         25,
         "2024-02-25",
         125,
         "Yvonne Long",
         "yvonne@example.com",
         225,
         "Graphic Tablet",
         "Electronics",
         325,
         "Asia",
         "Japan",
         "China",
         1,
         "480.00",
         "480.00"
        ]
       ],
       "datasetInfos": [
        {
         "name": "_sqldf",
         "schema": {
          "fields": [
           {
            "metadata": {},
            "name": "id",
            "nullable": true,
            "type": "integer"
           },
           {
            "metadata": {},
            "name": "order_date",
            "nullable": true,
            "type": "date"
           },
           {
            "metadata": {},
            "name": "customer_id",
            "nullable": true,
            "type": "integer"
           },
           {
            "metadata": {
             "__CHAR_VARCHAR_TYPE_STRING": "varchar(50)"
            },
            "name": "customer_name",
            "nullable": true,
            "type": "string"
           },
           {
            "metadata": {
             "__CHAR_VARCHAR_TYPE_STRING": "varchar(100)"
            },
            "name": "email",
            "nullable": true,
            "type": "string"
           },
           {
            "metadata": {},
            "name": "product_id",
            "nullable": true,
            "type": "integer"
           },
           {
            "metadata": {
             "__CHAR_VARCHAR_TYPE_STRING": "varchar(50)"
            },
            "name": "product_name",
            "nullable": true,
            "type": "string"
           },
           {
            "metadata": {
             "__CHAR_VARCHAR_TYPE_STRING": "varchar(50)"
            },
            "name": "category",
            "nullable": true,
            "type": "string"
           },
           {
            "metadata": {},
            "name": "region_id",
            "nullable": true,
            "type": "integer"
           },
           {
            "metadata": {
             "__CHAR_VARCHAR_TYPE_STRING": "varchar(50)"
            },
            "name": "region_name",
            "nullable": true,
            "type": "string"
           },
           {
            "metadata": {
             "__CHAR_VARCHAR_TYPE_STRING": "varchar(50)"
            },
            "name": "region_group",
            "nullable": true,
            "type": "string"
           },
           {
            "metadata": {
             "__CHAR_VARCHAR_TYPE_STRING": "varchar(50)"
            },
            "name": "country",
            "nullable": true,
            "type": "string"
           },
           {
            "metadata": {},
            "name": "quantity",
            "nullable": true,
            "type": "integer"
           },
           {
            "metadata": {},
            "name": "unit_price",
            "nullable": true,
            "type": "decimal(10,2)"
           },
           {
            "metadata": {},
            "name": "total_price",
            "nullable": true,
            "type": "decimal(10,2)"
           }
          ],
          "type": "struct"
         },
         "tableIdentifier": null,
         "typeStr": "pyspark.sql.connect.dataframe.DataFrame"
        }
       ],
       "dbfsResultPath": null,
       "isJsonSchema": true,
       "metadata": {
        "createTempViewForImplicitDf": true,
        "dataframeName": "_sqldf",
        "executionCount": 107
       },
       "overflow": false,
       "plotOptions": {
        "customPlotOptions": {},
        "displayType": "table",
        "pivotAggregation": null,
        "pivotColumns": null,
        "xColumns": null,
        "yColumns": null
       },
       "removedWidgets": [],
       "schema": [
        {
         "metadata": "{}",
         "name": "id",
         "type": "\"integer\""
        },
        {
         "metadata": "{}",
         "name": "order_date",
         "type": "\"date\""
        },
        {
         "metadata": "{}",
         "name": "customer_id",
         "type": "\"integer\""
        },
        {
         "metadata": "{\"__CHAR_VARCHAR_TYPE_STRING\": \"varchar(50)\"}",
         "name": "customer_name",
         "type": "\"string\""
        },
        {
         "metadata": "{\"__CHAR_VARCHAR_TYPE_STRING\": \"varchar(100)\"}",
         "name": "email",
         "type": "\"string\""
        },
        {
         "metadata": "{}",
         "name": "product_id",
         "type": "\"integer\""
        },
        {
         "metadata": "{\"__CHAR_VARCHAR_TYPE_STRING\": \"varchar(50)\"}",
         "name": "product_name",
         "type": "\"string\""
        },
        {
         "metadata": "{\"__CHAR_VARCHAR_TYPE_STRING\": \"varchar(50)\"}",
         "name": "category",
         "type": "\"string\""
        },
        {
         "metadata": "{}",
         "name": "region_id",
         "type": "\"integer\""
        },
        {
         "metadata": "{\"__CHAR_VARCHAR_TYPE_STRING\": \"varchar(50)\"}",
         "name": "region_name",
         "type": "\"string\""
        },
        {
         "metadata": "{\"__CHAR_VARCHAR_TYPE_STRING\": \"varchar(50)\"}",
         "name": "region_group",
         "type": "\"string\""
        },
        {
         "metadata": "{\"__CHAR_VARCHAR_TYPE_STRING\": \"varchar(50)\"}",
         "name": "country",
         "type": "\"string\""
        },
        {
         "metadata": "{}",
         "name": "quantity",
         "type": "\"integer\""
        },
        {
         "metadata": "{}",
         "name": "unit_price",
         "type": "\"decimal(10,2)\""
        },
        {
         "metadata": "{}",
         "name": "total_price",
         "type": "\"decimal(10,2)\""
        }
       ],
       "type": "table"
      }
     },
     "output_type": "display_data"
    }
   ],
   "source": [
    "SELECT * FROM salesdwh.core_sales;"
   ]
  }
 ],
 "metadata": {
  "application/vnd.databricks.v1+notebook": {
   "computePreferences": {
    "hardware": {
     "accelerator": null,
     "gpuPoolId": null,
     "memory": null
    }
   },
   "dashboards": [],
   "environmentMetadata": {
    "base_environment": "",
    "environment_version": "3"
   },
   "inputWidgetPreferences": null,
   "language": "sql",
   "notebookMetadata": {
    "pythonIndentUnit": 4
   },
   "notebookName": "NoteBook1",
   "widgets": {}
  },
  "language_info": {
   "name": "sql"
  }
 },
 "nbformat": 4,
 "nbformat_minor": 0
}